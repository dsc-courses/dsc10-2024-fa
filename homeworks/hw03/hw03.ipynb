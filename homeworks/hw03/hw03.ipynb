{
 "cells": [
  {
   "cell_type": "markdown",
   "metadata": {},
   "source": [
    "# Homework 3: DataFrames, Control Flow, and Probability\n",
    "\n",
    "## Due Sunday, October 27th at 11:59PM\n",
    "\n",
    "Welcome to Homework 3! This homework will cover lots of different topics:\n",
    "- Grouping with subgroups (see [BPD 11](https://notes.dsc10.com/02-data_sets/groupby.html#subgroups))\n",
    "- Merging DataFrames (see [BPD 13](https://notes.dsc10.com/02-data_sets/merging.html))\n",
    "- Conditional statements (see [CIT 9.1](https://inferentialthinking.com/chapters/09/1/Conditional_Statements.html))\n",
    "- Iteration (see [CIT 9.2](https://inferentialthinking.com/chapters/09/2/Iteration.html))\n",
    "- Probability (see [CIT 9.5](https://inferentialthinking.com/chapters/09/5/Finding_Probabilities.html))"
   ]
  },
  {
   "cell_type": "markdown",
   "metadata": {},
   "source": [
    "### Instructions\n",
    "\n",
    "Remember to start early and submit often. You are given six slip days throughout the quarter to extend deadlines. See the syllabus for more details. With the exception of using slip days, late work will not be accepted unless you have made special arrangements with your instructor.\n",
    "\n",
    "**Important**: For homeworks, the `otter` tests don't usually tell you that your answer is correct. More often, they help catch careless mistakes. It's up to you to ensure that your answer is correct. If you're not sure, ask someone (not for the answer, but for some guidance about your approach). These are great questions for office hours (the schedule can be found [here](https://dsc10.com/calendar)) or Ed. Directly sharing answers is not okay, but discussing problems with the course staff or with other students is encouraged. "
   ]
  },
  {
   "cell_type": "code",
   "execution_count": null,
   "metadata": {
    "tags": []
   },
   "outputs": [],
   "source": [
    "# Please don't change this cell, but do make sure to run it.\n",
    "import babypandas as bpd\n",
    "import matplotlib.pyplot as plt\n",
    "plt.style.use('ggplot')\n",
    "plt.rcParams['figure.figsize'] = (10, 5)\n",
    "\n",
    "import numpy as np\n",
    "import otter\n",
    "grader = otter.Notebook()\n",
    "\n",
    "# We need to import some extra packages for some fun demonstrations.\n",
    "import json\n",
    "from ipywidgets import interact, widgets\n",
    "from IPython.display import YouTubeVideo, HTML, display, clear_output, Image, IFrame\n",
    "\n",
    "# Don't worry about this.\n",
    "def read_json(path):\n",
    "    f = open(path, 'r')\n",
    "    return json.load(f)\n",
    "\n",
    "answer_words = bpd.read_csv('data/wordle.csv').get('word').values\n",
    "\n",
    "def candy_map():\n",
    "    src = f\"https://map.candystore.com/halloween/2024/fullscreen.html\"\n",
    "    width = 800\n",
    "    height = 600\n",
    "    display(IFrame(src, width, height))"
   ]
  },
  {
   "cell_type": "markdown",
   "metadata": {},
   "source": [
    "### Supplemental Video on DataHub and Jupyter Notebooks\n",
    "\n",
    "In Lab 0, we linked you to a video that walks you through key ideas you should be aware of when working on DataHub and in Jupyter Notebooks, including\n",
    "- how files are organized on DataHub\n",
    "- what it means to \"restart the kernel\"\n",
    "- how to use keyboard shortcuts (most important: use `SHIFT + ENTER` to run a cell!)\n",
    "\n",
    "Now that you have some experience with Jupyter Notebooks, we're linking this video again for your convenience. If you feel a little shaky on how to work your way around a notebook or troubleshoot issues, we recommend you give it another watch. (When troubleshooting, make sure to always check the [Debugging](https://dsc10.com/debugging/) tab on the course website as well.)\n",
    "\n",
    "The video is quite long, but if you open the video directly on YouTube (which you can do by clicking the video's title after it loads in the next cell) you'll see timestamps in the description which you can use to jump to different parts of the video depending on what you'd like to learn more about."
   ]
  },
  {
   "cell_type": "code",
   "execution_count": null,
   "metadata": {
    "scrolled": true,
    "tags": []
   },
   "outputs": [],
   "source": [
    "# Run this cell.\n",
    "YouTubeVideo('Hq8VaNirDRQ')"
   ]
  },
  {
   "cell_type": "markdown",
   "metadata": {},
   "source": [
    "## 0. Mid-Quarter Survey\n",
    "\n",
    "We'd like to hear from you on how DSC 10 has been going so far this quarter. To do so, we've put together a survey that asks you to provide feedback on all aspects of the course. You can provide as much or as little detail as you'd like. We value your input and will use the results of the survey to improve the course!\n",
    "\n",
    "This survey is entirely anonymous, though you are free to leave your name and email if you want. The responses to the survey will be visible to both course staff and the Data Science Student Representatives. There will also be a question at the end of the survey that will allow you to provide feedback on the DSC program as a whole.\n",
    "\n",
    "<center><h3>Click <a href=\"https://forms.gle/wPLUUvWXKhkzGA5X6\">here</a> to access the survey.</h3></center>\n",
    "\n",
    "After completing the survey, enter the keyword provided at the end of the survey to get credit towards this homework assignment."
   ]
  },
  {
   "cell_type": "code",
   "execution_count": null,
   "metadata": {},
   "outputs": [],
   "source": [
    "survey_keyword = ..."
   ]
  },
  {
   "cell_type": "code",
   "execution_count": null,
   "metadata": {
    "deletable": false,
    "editable": false
   },
   "outputs": [],
   "source": [
    "grader.check(\"q0\")"
   ]
  },
  {
   "cell_type": "markdown",
   "metadata": {},
   "source": [
    "## 1. 100 Years of \"J\" Baby Names 👶🏻"
   ]
  },
  {
   "cell_type": "markdown",
   "metadata": {},
   "source": [
    "What letter does your first name start with? In this problem, we'll look at baby names starting with the letter \"J\". The file `data/baby_names.csv` contains information from the [Social Security Administration](https://www.ssa.gov/oact/babynames/limits.html) about \"J\" baby names in the US from 1924 to 2023 — that's one hundred years of data! Run the cell below to read in the data."
   ]
  },
  {
   "cell_type": "code",
   "execution_count": null,
   "metadata": {
    "tags": []
   },
   "outputs": [],
   "source": [
    "baby = bpd.read_csv('data/baby_names.csv')\n",
    "baby"
   ]
  },
  {
   "cell_type": "markdown",
   "metadata": {},
   "source": [
    "The DataFrame `baby` has a row for each `'State'` (50 US states plus Washington DC), `'Gender'` (`'M'` or `'F'`, as assigned at birth), `'Year'` (between 1924 and 2023), and `'Name'`. The `'Count'` column records the number of babies of that gender who were given that name in one state in one year.\n",
    "\n",
    "The first row in `baby` contains the name John. Below, we look at only the rows corresponding to the name John."
   ]
  },
  {
   "cell_type": "code",
   "execution_count": null,
   "metadata": {},
   "outputs": [],
   "source": [
    "baby[baby.get('Name') == 'John']"
   ]
  },
  {
   "cell_type": "markdown",
   "metadata": {},
   "source": [
    "The first row of the DataFrame shows that there were 36 male babies named John born in Alaska in 1924. There are many other rows corresponding to the name John, which come from other years, other states, and also female babies named John, of which there are some!\n",
    "\n",
    "\n",
    "Run the cell below to find out when and where many female Johns were born."
   ]
  },
  {
   "cell_type": "code",
   "execution_count": null,
   "metadata": {
    "tags": []
   },
   "outputs": [],
   "source": [
    "female_john = baby[(baby.get('Name') == 'John') & (baby.get('Gender') == 'F')]\n",
    "female_john.sort_values(by='Count', ascending=False)"
   ]
  },
  {
   "cell_type": "markdown",
   "metadata": {},
   "source": [
    "**Question 1.1.** There are many more male Johns than female Johns, so let's look at the popularity of the name John in male babies over time. Create a line plot that shows how the number of male babies named John has changed over time in the US. Then use your plot to answer the question that follows."
   ]
  },
  {
   "cell_type": "code",
   "execution_count": null,
   "metadata": {
    "tags": []
   },
   "outputs": [],
   "source": [
    "# Create your line plot here."
   ]
  },
  {
   "cell_type": "markdown",
   "metadata": {},
   "source": [
    "Around what year was the peak in popularity for the name John in male babies? Choose the closest answer from the options below and set `male_john_peak` to 1, 2, 3, or 4 corresponding to your answer choice.\n",
    "1. 1930\n",
    "2. 1950\n",
    "3. 1970\n",
    "4. 1990"
   ]
  },
  {
   "cell_type": "code",
   "execution_count": null,
   "metadata": {
    "tags": []
   },
   "outputs": [],
   "source": [
    "male_john_peak = ..."
   ]
  },
  {
   "cell_type": "code",
   "execution_count": null,
   "metadata": {
    "deletable": false,
    "editable": false
   },
   "outputs": [],
   "source": [
    "grader.check(\"q1_1\")"
   ]
  },
  {
   "cell_type": "markdown",
   "metadata": {},
   "source": [
    "**Question 1.2.** In the `baby` DataFrame, how many babies of each gender were born in each state? Create a DataFrame named `num_babies` with one row for each gender in each state and columns `'State'`, `'Gender'`, and `'Count'`, which contains the total number of babies of each gender in each state with a \"J\" name. The first few rows of `num_babies` are shown below.\n",
    "\n",
    "<table border=\"1\" class=\"dataframe\">\n",
    "  <thead>\n",
    "    <tr style=\"text-align: right;\">\n",
    "      <th></th>\n",
    "      <th>State</th>\n",
    "      <th>Gender</th>\n",
    "      <th>Count</th>\n",
    "    </tr>\n",
    "  </thead>\n",
    "  <tbody>\n",
    "    <tr>\n",
    "      <th>0</th>\n",
    "      <td>AK</td>\n",
    "      <td>F</td>\n",
    "      <td>15495</td>\n",
    "    </tr>\n",
    "    <tr>\n",
    "      <th>1</th>\n",
    "      <td>AK</td>\n",
    "      <td>M</td>\n",
    "      <td>44767</td>\n",
    "    </tr>\n",
    "    <tr>\n",
    "      <th>2</th>\n",
    "      <td>AL</td>\n",
    "      <td>F</td>\n",
    "      <td>191205</td>\n",
    "    </tr>\n",
    "    <tr>\n",
    "      <th>3</th>\n",
    "      <td>AL</td>\n",
    "      <td>M</td>\n",
    "      <td>555313</td>\n",
    "    </tr>\n",
    "  </tbody>\n",
    "</table>\n",
    "\n",
    "***Hints:***\n",
    "- You can do this in one line of code.\n",
    "- Don't forget to use `.reset_index()`.\n"
   ]
  },
  {
   "cell_type": "code",
   "execution_count": null,
   "metadata": {
    "tags": []
   },
   "outputs": [],
   "source": [
    "num_babies = ...\n",
    "num_babies"
   ]
  },
  {
   "cell_type": "code",
   "execution_count": null,
   "metadata": {
    "deletable": false,
    "editable": false
   },
   "outputs": [],
   "source": [
    "grader.check(\"q1_2\")"
   ]
  },
  {
   "cell_type": "markdown",
   "metadata": {},
   "source": [
    "A gendered name is a combination of a name and a gender, such as female John. Let's explore the average age of people with each gendered name. For example, let's calculate the average age of all female Johns."
   ]
  },
  {
   "cell_type": "code",
   "execution_count": null,
   "metadata": {
    "tags": []
   },
   "outputs": [],
   "source": [
    "female_john"
   ]
  },
  {
   "cell_type": "markdown",
   "metadata": {},
   "source": [
    "We'll define the age of a person as 2024 (the current year) minus the year in which the person was born. This doesn't take into account people's birthdays, because we don't have that information. For example, if a female John was born in 1984, they will be counted as 2024 - 1984 = 40 years old. Therefore the **total age** of all the female Johns is given below."
   ]
  },
  {
   "cell_type": "code",
   "execution_count": null,
   "metadata": {
    "tags": []
   },
   "outputs": [],
   "source": [
    "total_age = ((2024 - female_john.get('Year')) * female_john.get('Count')).sum()\n",
    "total_age"
   ]
  },
  {
   "cell_type": "markdown",
   "metadata": {},
   "source": [
    "To find the average age, we need to know how many female Johns there are. The **total count** of female Johns is given below."
   ]
  },
  {
   "cell_type": "code",
   "execution_count": null,
   "metadata": {
    "tags": []
   },
   "outputs": [],
   "source": [
    "total_count = female_john.get('Count').sum()\n",
    "total_count"
   ]
  },
  {
   "cell_type": "markdown",
   "metadata": {},
   "source": [
    "Therefore the **average age** of female Johns is given below."
   ]
  },
  {
   "cell_type": "code",
   "execution_count": null,
   "metadata": {
    "tags": []
   },
   "outputs": [],
   "source": [
    "average_age = total_age / total_count\n",
    "average_age"
   ]
  },
  {
   "cell_type": "markdown",
   "metadata": {},
   "source": [
    "Notice that we _cannot_ calculate the average age of female Johns as follows."
   ]
  },
  {
   "cell_type": "code",
   "execution_count": null,
   "metadata": {
    "tags": []
   },
   "outputs": [],
   "source": [
    "age = 2024 - female_john.get('Year')\n",
    "age.mean()"
   ]
  },
  {
   "cell_type": "markdown",
   "metadata": {},
   "source": [
    "This is incorrect because it does not take into account the fact that there were more female Johns born some years than others. "
   ]
  },
  {
   "cell_type": "markdown",
   "metadata": {},
   "source": [
    "**Question 1.3.** Create a DataFrame named `avg_age` that has one row for each gendered name and columns `'Gender'`, `'Name'`, and `'Average_Age'`, which contains the average age of all people with each gendered name. The first few rows of `avg_age` are shown below.\n",
    "\n",
    "<table border=\"1\" class=\"dataframe\">\n",
    "  <thead>\n",
    "    <tr style=\"text-align: right;\">\n",
    "      <th></th>\n",
    "      <th>Gender</th>\n",
    "      <th>Name</th>\n",
    "      <th>Average_Age</th>\n",
    "    </tr>\n",
    "  </thead>\n",
    "  <tbody>\n",
    "    <tr>\n",
    "      <th>0</th>\n",
    "      <td>F</td>\n",
    "      <td>Ja</td>\n",
    "      <td>24.000000</td>\n",
    "    </tr>\n",
    "    <tr>\n",
    "      <th>1</th>\n",
    "      <td>M</td>\n",
    "      <td>Ja</td>\n",
    "      <td>24.571429</td>\n",
    "    </tr>\n",
    "    <tr>\n",
    "      <th>2</th>\n",
    "      <td>F</td>\n",
    "      <td>Jace</td>\n",
    "      <td>10.451613</td>\n",
    "    </tr>\n",
    "    <tr>\n",
    "      <th>3</th>\n",
    "      <td>M</td>\n",
    "      <td>Jace</td>\n",
    "      <td>11.472549</td>\n",
    "    </tr>\n",
    "  </tbody>\n",
    "</table>\n",
    "\n",
    "***Hints:***\n",
    "- Before attempting this question, make sure you understand the strategy shown above for finding the average age of female Johns. You will need to generalize this approach.\n",
    "- This is a multi-step problem. Add cells and display your intermediate results so you can see your progress as you go.\n",
    "- You should check that the average age for female Johns in your DataFrame `avg_age` is the same as we found above.\n"
   ]
  },
  {
   "cell_type": "code",
   "execution_count": null,
   "metadata": {
    "tags": []
   },
   "outputs": [],
   "source": [
    "avg_age = ...\n",
    "avg_age"
   ]
  },
  {
   "cell_type": "code",
   "execution_count": null,
   "metadata": {
    "deletable": false,
    "editable": false
   },
   "outputs": [],
   "source": [
    "grader.check(\"q1_3\")"
   ]
  },
  {
   "cell_type": "markdown",
   "metadata": {},
   "source": [
    "## 2. Trick or Treat 🍭🎃\n",
    "\n",
    "In this question, we'll be exploring some data on the most popular Halloween candies in each state, from [this article](https://www.candystore.com/blogs/facts-trivia/halloween-candy-map-popular?y=2024).\n",
    "\n",
    "Run the cell below to see a fun interactive data visualization from the same article. Try hovering over your favorite state."
   ]
  },
  {
   "cell_type": "code",
   "execution_count": null,
   "metadata": {
    "tags": []
   },
   "outputs": [],
   "source": [
    "candy_map()"
   ]
  },
  {
   "cell_type": "code",
   "execution_count": null,
   "metadata": {},
   "outputs": [],
   "source": [
    "states = bpd.read_csv('data/popular_candy_by_state.csv')\n",
    "states"
   ]
  },
  {
   "cell_type": "markdown",
   "metadata": {},
   "source": [
    "In the `states` DataFrame above, each state's `'Top Candy'` is recorded, based on candy sales in that state. `'Pounds'` refers to the total pounds of that specific candy sold in that state.<br>\n",
    "\n",
    "The `states` DataFrame does not contain any information about the candies themselves, e.g. which candies are chocolate and which candies are fruity. For this information, we can refer to a dataset curated by FiveThirtyEight for their article [The Ultimate Halloween Candy Power Ranking](https://fivethirtyeight.com/videos/the-ultimate-halloween-candy-power-ranking/), which we recommend reading!\n",
    "\n",
    "Run the cell below to load in a dataset containing information about many varieties of candy and save it as a DataFrame named `varieties`.\n",
    "\n",
    "_Note_: The column in `varieties` that contains the names of the candies is `'competitorname'`, because these candies were all competing against each other in FiveThirtyEight's Halloween Candy Power Ranking. "
   ]
  },
  {
   "cell_type": "code",
   "execution_count": null,
   "metadata": {},
   "outputs": [],
   "source": [
    "varieties = bpd.read_csv('data/halloween_candy.csv')\n",
    "varieties"
   ]
  },
  {
   "cell_type": "markdown",
   "metadata": {},
   "source": [
    "**Question 2.1.** Using the `merge` method, combine the `states` and `varieties` DataFrames, and assign the resulting DataFrame to the variable `states_and_varieties`. \n",
    "- `states_and_varieties` should contain all of the columns in both `states` and `varieties`, minus the `'competitorname'` column from `varieties`, which is redundant with the `'Top Candy'` column from `states`.\n",
    "- Sort `states_and_varieties` by `'State'` in ascending order.\n",
    "\n",
    "\n",
    "<!--\n",
    "BEGIN QUESTION\n",
    "name: q2_1\n",
    "-->"
   ]
  },
  {
   "cell_type": "code",
   "execution_count": null,
   "metadata": {
    "tags": []
   },
   "outputs": [],
   "source": [
    "states_and_varieties = ...\n",
    "states_and_varieties"
   ]
  },
  {
   "cell_type": "code",
   "execution_count": null,
   "metadata": {
    "deletable": false,
    "editable": false
   },
   "outputs": [],
   "source": [
    "grader.check(\"q2_1\")"
   ]
  },
  {
   "cell_type": "markdown",
   "metadata": {},
   "source": [
    "**Question 2.2.** If you completed Question 2.1 correctly, you'll notice that `states_and_varieties` has fewer rows than both `states` and `varieties`. This is because there are some candies that are in `states` and not in `varieties`, and other candies that are in `varieties` and not in `states`. \n",
    "\n",
    "Below, assign `states_not_varieties` to the number of different candies that are in `states` and not in `varieties`. Similarly, assign `varieties_not_states` to the number of different candies that are in `varieties` and not in `states`.\n",
    "\n",
    "_Hint_: There are two ways to find the number of unique values in a column.\n",
    "\n",
    "1. Group by that column. On the resulting DataFrame, use `.shape[0]`.\n",
    "\n",
    "2. Use the `.unique()` method on the Series corresponding to that column. Use `len` on the resulting array.\n",
    "\n",
    "You'll need to do this three times – once each for the columns that contain candy names in `states`, `varieties`, and `states_and_varieties`.\n",
    "\n"
   ]
  },
  {
   "cell_type": "code",
   "execution_count": null,
   "metadata": {
    "scrolled": true,
    "tags": []
   },
   "outputs": [],
   "source": [
    "states_not_varieties = ...\n",
    "varieties_not_states = ...\n",
    "print('There are', states_not_varieties, 'candies in `states` that are not in `varieties`.')\n",
    "print('There are', varieties_not_states, 'candies in `varieties` that are not in `states`.')"
   ]
  },
  {
   "cell_type": "code",
   "execution_count": null,
   "metadata": {
    "deletable": false,
    "editable": false
   },
   "outputs": [],
   "source": [
    "grader.check(\"q2_2\")"
   ]
  },
  {
   "cell_type": "markdown",
   "metadata": {},
   "source": [
    "Now that we better understand how `states_and_varieties` came to be, let's use it to learn more about states' candy preferences."
   ]
  },
  {
   "cell_type": "code",
   "execution_count": null,
   "metadata": {},
   "outputs": [],
   "source": [
    "states_and_varieties"
   ]
  },
  {
   "cell_type": "markdown",
   "metadata": {},
   "source": [
    "The 0s and 1s in the columns `'chocolate'`, `'fruity'`, `'caramel'`, etc. can be interpreted as Boolean values. For instance, since the state `'CT'` has a 1 in its `'chocolate'` column, it means that Connecticut's most popular candy includes chocolate.\n",
    "\n",
    "**Question 2.3.** Among just the states in `states_and_varieties` where the most popular candy includes chocolate, what proportion of these states have a most popular candy that also includes caramel? Assign your answer to `p_caramel_given_chocolate`. It should be a decimal between 0 and 1.\n",
    "\n",
    "<!--\n",
    "BEGIN QUESTION\n",
    "name: q2_3\n",
    "-->"
   ]
  },
  {
   "cell_type": "code",
   "execution_count": null,
   "metadata": {},
   "outputs": [],
   "source": [
    "p_caramel_given_chocolate = ...\n",
    "p_caramel_given_chocolate"
   ]
  },
  {
   "cell_type": "code",
   "execution_count": null,
   "metadata": {
    "deletable": false,
    "editable": false
   },
   "outputs": [],
   "source": [
    "grader.check(\"q2_3\")"
   ]
  },
  {
   "cell_type": "markdown",
   "metadata": {},
   "source": [
    "## 3. Wordle 🟨 ⬛ 🟨 🟩 ⬛\n",
    "\n",
    "\n",
    "<img src = \"data/wordle_example.jpg\" width=200>\n",
    "\n",
    "[Wordle](https://www.nytimes.com/games/wordle/index.html), now owned by The New York Times, is a word-guessing game that became extremely popular at the end of 2021. Players have six tries to guess an unknown five-letter answer word. To play, you first enter a five-letter word as a guess for the answer word. After you make your guess, each letter of your guess will be highlighted with a color-coded square as follows:\n",
    "\n",
    "- A black square ⬛ means that this letter is **not** in the answer word at all.  \n",
    "- A yellow square 🟨 means that this letter is in the answer word, but in a **different position**.  \n",
    "- A green square means 🟩 the letter is in the **correct position** in the answer word.\n",
    "\n",
    "In this question, you will replicate some of that behavior using `for`-loops. We'll make a simplifying assumption that's not present in the real Wordle game: the answer word will always have five **different** letters and every guess must also have five **different** letters.\n",
    "\n",
    "We'll represent your Wordle results with a string of five colored square emojis. (Emojis can be included in strings, just like letters, numbers, and punctuation!)\n",
    "\n",
    "For example, if the answer word is `'STEIN'` and your guess is `'SCALE'`, as shown in the image above, your results can be represented by the string `'🟩⬛⬛⬛🟨'`. \n",
    "\n",
    "The array `emojis` defined below contains all the symbols we'll need to construct such strings."
   ]
  },
  {
   "cell_type": "code",
   "execution_count": null,
   "metadata": {},
   "outputs": [],
   "source": [
    "emojis = np.array(['⬛', '🟨', '🟩'])\n",
    "emojis"
   ]
  },
  {
   "cell_type": "markdown",
   "metadata": {},
   "source": [
    "Recall, in [Lecture 10](https://dsc10.com/resources/lectures/lec10/lec10.html), we introduced the accumulator pattern. In the coin-flipping example, we started with an empty array, and added onto it in each iteration of our `for`-loop.\n",
    "\n",
    "We can also use the accumulator pattern for strings, by starting with an empty string, and repeatedly adding onto it via concatenation. Here's an example that loops through the letters in a word and replaces certain letters with colored square emojis."
   ]
  },
  {
   "cell_type": "code",
   "execution_count": null,
   "metadata": {},
   "outputs": [],
   "source": [
    "output = ''\n",
    "for ch in 'goodbye':\n",
    "    if ch == 'b':\n",
    "        output = output + emojis[0] # add a black square\n",
    "    elif ch == 'y':\n",
    "        output = output + emojis[1] # add a yellow square\n",
    "    elif ch == 'g':\n",
    "        output = output + emojis[2] # add a green square\n",
    "        \n",
    "    else:\n",
    "        output = output + ch\n",
    "output"
   ]
  },
  {
   "cell_type": "markdown",
   "metadata": {},
   "source": [
    "In the above example, we started with an empty string, `output`. For each character of the string `'goodbye'`, we added a single new character to `output`, depending on whether we saw `'g'`, `'b'`, `'y'`, or something else."
   ]
  },
  {
   "cell_type": "markdown",
   "metadata": {},
   "source": [
    "**Question 3.1.** Now, complete the implementation of the function `emojify`, which takes as input two five-letter strings, each having no repeated letters. The first input string, `guess`, should be cross-checked with each letter of the second input string, `answer`. The function should return a new string, formed entirely of emojis from  the `emojis` array, that indicates the accuracy of each letter in the guess, as described in the rules above. For example, let's say the `answer` string is `'shark'`. Here is how the function would work on various example guesses.\n",
    "\n",
    "```py\n",
    ">>> emojify('crept', 'shark')\n",
    "'⬛🟨⬛⬛⬛'\n",
    "\n",
    ">>> emojify('chalk', 'shark')\n",
    "'⬛🟩🟩⬛🟩'\n",
    "\n",
    ">>> emojify('harks', 'shark')\n",
    "'🟨🟨🟨🟨🟨'\n",
    "\n",
    ">>> emojify('sharp', 'shark')\n",
    "'🟩🟩🟩🟩⬛'\n",
    "\n",
    ">>> emojify('shark', 'shark')\n",
    "'🟩🟩🟩🟩🟩'\n",
    "```\n",
    "\n",
    "_Note_: As we did in the preceding example, use the array `emojis` to access the emojis – don't actually include any colored square emojis in the code you write below.\n",
    "\n",
    "***Hints:*** \n",
    "- Look at the slide titled *Ranges* in [Lecture 10](https://dsc10.com/resources/lectures/lec10/lec10.html#Ranges) for guidance.\n",
    "- You'll need to use the `in` keyword, which we also introduced in Lecture 10.\n",
    "- Remember to write a general function that works for any answer word, not just `'shark'`."
   ]
  },
  {
   "cell_type": "code",
   "execution_count": null,
   "metadata": {},
   "outputs": [],
   "source": [
    "def emojify(guess, answer):\n",
    "    # This line ensures your code works correctly regardless of \n",
    "    # whether the guess is in upper case or lower case.\n",
    "    guess = guess.lower()\n",
    "\n",
    "    # Empty string to add on to.\n",
    "    emoji_output_string = '' \n",
    "    \n",
    "    # You'll need to complete the body of this for loop.\n",
    "    for i in range(len(guess)):\n",
    "    ...\n",
    "    \n",
    "    # Don't change this\n",
    "    return emoji_output_string\n",
    "\n",
    "# An example call to emojify. Try out some other words, too.\n",
    "emojify('crept', 'shark')"
   ]
  },
  {
   "cell_type": "code",
   "execution_count": null,
   "metadata": {
    "deletable": false,
    "editable": false
   },
   "outputs": [],
   "source": [
    "grader.check(\"q3_1\")"
   ]
  },
  {
   "cell_type": "markdown",
   "metadata": {},
   "source": [
    "### Final Product\n",
    "\n",
    "You just implemented the logic for a Wordle game. Let's try it out! \n",
    "\n",
    "Run the following cell once you've completed the rest of this question, and you'll see a text box. Type a five-letter word with no repeated letters to guess the secret answer word. You can change your guess by backspacing and typing in a different guess for the same answer word. \n",
    "\n",
    "You can play the game more than once by running the cell again to generate a new answer word."
   ]
  },
  {
   "cell_type": "code",
   "execution_count": null,
   "metadata": {
    "scrolled": true
   },
   "outputs": [],
   "source": [
    "answer = np.random.choice(answer_words)\n",
    "def emojify_live(guess):\n",
    "    result = emojify(guess, answer)\n",
    "    display(HTML('<h3>' + result + '</h3>'))\n",
    "    if result == '🟩🟩🟩🟩🟩':\n",
    "        display(HTML('<h3> You win! </h3>'))\n",
    "display(HTML('<h2> Let\\'s play Wordle! </h2>'))\n",
    "interact(emojify_live, guess=\"\");"
   ]
  },
  {
   "cell_type": "markdown",
   "metadata": {
    "deletable": false,
    "editable": false
   },
   "source": [
    "## 4. Alternating Products\n",
    "\n",
    "In this problem, we'll define two functions that compute some sort of \"alternating product\" of a sequence of values.\n",
    "\n",
    "**Question 4.1.** Complete the implementation of the function `alternating_product`, which takes in an array of numbers, `values`, and returns the product of every other element in `values`, starting with the first element (at position `0`). Example behavior is shown below.\n",
    "\n",
    "```py\n",
    ">>> alternating_product(np.array([2, 3.5, 1, 1.5]))\n",
    "2.0 # comes from 2 * 1\n",
    "\n",
    ">>> alternating_product(np.array([2, 3.5, 1, 1.5, 4.5]))\n",
    "9.0 # comes from 2 * 1 * 4.5\n",
    "```\n",
    "<!--\n",
    "BEGIN QUESTION\n",
    "name: q4_1\n",
    "-->"
   ]
  },
  {
   "cell_type": "code",
   "execution_count": null,
   "metadata": {},
   "outputs": [],
   "source": [
    "def alternating_product(values):\n",
    "    ...\n",
    "    \n",
    "# Feel free to change this input to make sure your function works correctly.\n",
    "alternating_product(np.array([2, 3.5, 1, 1.5]))"
   ]
  },
  {
   "cell_type": "code",
   "execution_count": null,
   "metadata": {
    "deletable": false,
    "editable": false
   },
   "outputs": [],
   "source": [
    "grader.check(\"q4_1\")"
   ]
  },
  {
   "cell_type": "markdown",
   "metadata": {
    "deletable": false,
    "editable": false
   },
   "source": [
    "**Question 4.2.** In math, the word \"alternating\" is also used to describe sequences of numbers where the signs oscillate back and forth between positive and negative. Complete the implementation of the function `alternating_sign_product`, which takes in an array of positive numbers, `values`, and returns the product of every element in `values`, with alternating signs, starting with a positive sign for element `0`, a negative sign for element `1`, and so on. Example behavior is shown below.\n",
    "\n",
    "```py\n",
    ">>> alternating_sign_product(np.array([2, 3.5, 1]))\n",
    "-7.0 # comes from 2 * (-3.5) * 1\n",
    "\n",
    ">>> alternating_sign_product(np.array([2, 3.5, 1, 1.5]))\n",
    "10.5 # comes from 2 * (-3.5) * 1 * (-1.5)\n",
    "```\n",
    "\n",
    "***Hint:*** If `x` is an integer, `x % 2` evaluates to 0 when `x` is even and to 1 when `x` is odd. If `x` represents the position of an element in the array, you can use this to help you figure out whether the sign should be positive or negative.\n",
    "\n",
    "<!--\n",
    "BEGIN QUESTION\n",
    "name: q4_2\n",
    "-->"
   ]
  },
  {
   "cell_type": "code",
   "execution_count": null,
   "metadata": {},
   "outputs": [],
   "source": [
    "def alternating_sign_product(values):\n",
    "    ...\n",
    "    \n",
    "# Feel free to change this input to make sure your function works correctly.\n",
    "alternating_sign_product(np.array([2, 3.5, 1]))"
   ]
  },
  {
   "cell_type": "code",
   "execution_count": null,
   "metadata": {
    "deletable": false,
    "editable": false
   },
   "outputs": [],
   "source": [
    "grader.check(\"q4_2\")"
   ]
  },
  {
   "cell_type": "markdown",
   "metadata": {},
   "source": [
    "## 5. Lucky Triton Lotto 🔱 🎱 \n",
    "\n",
    "Suppose UCSD holds an annual lottery called the Lucky Triton Lotto, where students can enter to win Triton Cash, or even free housing! Here's how the Lucky Triton Lotto works:\n",
    "\n",
    "- First, you pick five **different** numbers, one at a time, from 1 to 29, representing that according to [USNews](https://www.usnews.com/best-colleges/university-of-california-san-diego-1317), UCSD is ranked 29th in the nation for best universities to attend for 2024-2025.\n",
    "- Then, you separately pick a number from 1 to 12. This is because UCSD's Data Science program is ranked 12th in [USNews's](https://www.usnews.com/best-colleges/rankings/computer-science/data-analytics-science) best undergraduate Data Science programs list (though we think it's number one). Let's say you select 3.\n",
    "- The six numbers you have selected, or  **your numbers**, can be represented all together as (7, 12, 24, 15, 13, 3). This is a _sequence_ of six numbers – **order matters**!\n",
    "\n",
    "The **winning numbers** are chosen by King Triton drawing five balls, one at a time, **without replacement**, from a pot of white balls numbered 1 to 29. Then, he draws a gold ball, the Tritonball, from a pot of gold balls numbered 1 to 12. Both pots are completely separate, hence the different ball colors. For example, maybe the winning numbers are (15, 9, 24, 23, 1, 3).\n",
    "\n",
    "We’ll assume for this problem that in order to win the grand prize (free housing), all six of your numbers need to match the winning numbers and be in the **exact same order**. In other words, your entire sequence of numbers must be exactly the same as the sequence of winning numbers. However, if some numbers in your sequence match up with the corresponding number in the winning sequence, you will still win some Triton Cash. \n",
    "\n",
    "Suppose again that you select (7, 12, 24, 15, 13, 3) and the winning numbers are (15, 9, 24, 23, 1, 3). In this case, two of your numbers are considered to match two of the winning numbers. \n",
    "- Your numbers: (7, 12, **24**, 15, 13, **3**)\n",
    "- Winning numbers: (15, 9, **24**, 23, 1, **3**)\n",
    "\n",
    "You won't win free housing, but you will win some Triton Cash. Note that although both sequences include the number 15 within the first five numbers (representing a white ball), since they are in different positions, that's not considered a match.\n"
   ]
  },
  {
   "cell_type": "markdown",
   "metadata": {},
   "source": [
    "**Question 5.1.** What is the probability that your Tritonball number (the last number in your sequence) matches the winning Tritonball number? Calculate your answer and assign it to `tritonball_chance`. If you need to do any calculations (e.g. multiplication or division), make Python do it; don't use a separate calculator. Your result should be a decimal number between 0 and 1."
   ]
  },
  {
   "cell_type": "code",
   "execution_count": null,
   "metadata": {},
   "outputs": [],
   "source": [
    "tritonball_chance = ...\n",
    "tritonball_chance"
   ]
  },
  {
   "cell_type": "code",
   "execution_count": null,
   "metadata": {
    "deletable": false,
    "editable": false
   },
   "outputs": [],
   "source": [
    "grader.check(\"q5_1\")"
   ]
  },
  {
   "cell_type": "markdown",
   "metadata": {},
   "source": [
    "**Question 5.2.** What is the probability that your first three numbers match the first three winning numbers? Calculate your answer and assign it to `first_three_chance`. If you need to do any calculations (e.g. multiplication or division), make Python do it; don't use a separate calculator. Your result should be a decimal number between 0 and 1.\n",
    "\n",
    "***Hint:*** You need **all three** of the first three numbers to match. What probability rule should you use?"
   ]
  },
  {
   "cell_type": "code",
   "execution_count": null,
   "metadata": {},
   "outputs": [],
   "source": [
    "first_three_chance = ...\n",
    "first_three_chance"
   ]
  },
  {
   "cell_type": "code",
   "execution_count": null,
   "metadata": {
    "deletable": false,
    "editable": false
   },
   "outputs": [],
   "source": [
    "grader.check(\"q5_2\")"
   ]
  },
  {
   "cell_type": "markdown",
   "metadata": {},
   "source": [
    "**Question 5.3.** What is the probability that you win the grand prize, free housing? Calculate your answer and assign it to `free_housing_chance`. If you need to do any calculations (e.g. multiplication or division), make Python do it; don't use a separate calculator. Your result should be a decimal number between 0 and 1.\n",
    "\n",
    "***Hint:*** When you select a ball without replacement, what happens to the total number of balls you can select next time?"
   ]
  },
  {
   "cell_type": "code",
   "execution_count": null,
   "metadata": {},
   "outputs": [],
   "source": [
    "free_housing_chance = ...\n",
    "free_housing_chance"
   ]
  },
  {
   "cell_type": "code",
   "execution_count": null,
   "metadata": {
    "deletable": false,
    "editable": false
   },
   "outputs": [],
   "source": [
    "grader.check(\"q5_3\")"
   ]
  },
  {
   "cell_type": "markdown",
   "metadata": {},
   "source": [
    "**Question 5.4.** What is the probability that you do **not** win free housing? Calculate your answer and assign it to `no_free_housing_chance`. If you need to do any calculations (e.g. multiplication or division), make Python do it; don't use a separate calculator. Your result should be a decimal number between 0 and 1."
   ]
  },
  {
   "cell_type": "code",
   "execution_count": null,
   "metadata": {
    "scrolled": true
   },
   "outputs": [],
   "source": [
    "no_free_housing_chance = ...\n",
    "no_free_housing_chance"
   ]
  },
  {
   "cell_type": "code",
   "execution_count": null,
   "metadata": {
    "deletable": false,
    "editable": false
   },
   "outputs": [],
   "source": [
    "grader.check(\"q5_4\")"
   ]
  },
  {
   "cell_type": "markdown",
   "metadata": {},
   "source": [
    "## Finish Line: Almost there, but make sure to follow the steps below to submit! 🏁\n",
    "\n",
    "**_Citations:_** Did you use any generative artificial intelligence tools to assist you on this assignment? If so, please state, for each tool you used, the name of the tool (ex. ChatGPT) and the problem(s) in this assignment where you used the tool for help."
   ]
  },
  {
   "cell_type": "markdown",
   "metadata": {},
   "source": [
    "<hr style=\"color:Maroon;background-color:Maroon;border:0 none; height: 3px;\">\n",
    "\n",
    "Please cite tools here.\n",
    "\n",
    "<hr style=\"color:Maroon;background-color:Maroon;border:0 none; height: 3px;\">"
   ]
  },
  {
   "cell_type": "markdown",
   "metadata": {},
   "source": [
    "To submit your assignment:\n",
    "\n",
    "1. Select `Kernel -> Restart & Run All` to ensure that you have executed all cells, including the test cells.\n",
    "1. Read through the notebook to make sure everything is fine and all tests passed.\n",
    "1. Run the cell below to run all tests, and make sure that they all pass.\n",
    "1. Download your notebook using `File -> Download as -> Notebook (.ipynb)`, then upload your notebook to Gradescope.\n",
    "1. Stick around while the Gradescope autograder grades your work. Make sure you see that all tests have passed on Gradescope.\n",
    "1. Check that you have a confirmation email from Gradescope and save it as proof of your submission."
   ]
  },
  {
   "cell_type": "code",
   "execution_count": null,
   "metadata": {},
   "outputs": [],
   "source": [
    "grader.check_all()"
   ]
  }
 ],
 "metadata": {
  "kernelspec": {
   "display_name": "Python 3 (ipykernel)",
   "language": "python",
   "name": "python3"
  },
  "language_info": {
   "codemirror_mode": {
    "name": "ipython",
    "version": 3
   },
   "file_extension": ".py",
   "mimetype": "text/x-python",
   "name": "python",
   "nbconvert_exporter": "python",
   "pygments_lexer": "ipython3",
   "version": "3.9.5"
  }
 },
 "nbformat": 4,
 "nbformat_minor": 4
}
