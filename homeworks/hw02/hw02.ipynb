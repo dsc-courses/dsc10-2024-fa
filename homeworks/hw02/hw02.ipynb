{
 "cells": [
  {
   "cell_type": "markdown",
   "metadata": {},
   "source": [
    "# Homework 2: DataFrames, Data Visualization, and Functions\n",
    "\n",
    "## Due Sunday, October 20th at 11:59PM\n",
    "\n",
    "Welcome to Homework 2! This week, we will cover DataFrame manipulations, making visualizations, and defining functions. You can find additional help on these topics in  [BPD 6, 9-12](https://notes.dsc10.com/01-getting_started/functions-defining.html) in the `babypandas` notes and [CIT 7-7.3](https://inferentialthinking.com/chapters/07/Visualization.html) in the textbook."
   ]
  },
  {
   "cell_type": "markdown",
   "metadata": {},
   "source": [
    "### Instructions\n",
    "\n",
    "Remember to start early and submit often. You are given six slip days throughout the quarter to extend deadlines. See the syllabus for more details. With the exception of using slip days, late work will not be accepted unless you have made special arrangements with your instructor.\n",
    "\n",
    "**Important**: For homeworks, the `otter` tests don't usually tell you that your answer is correct. More often, they help catch careless mistakes. It's up to you to ensure that your answer is correct. If you're not sure, ask someone (not for the answer, but for some guidance about your approach). These are great questions for office hours (see the schedule on the [Calendar](https://dsc10.com/calendar)) or Ed. Directly sharing answers is not okay, but discussing problems with the course staff or with other students is encouraged. \n",
    "\n",
    "**Please do not use for-loops for any questions in this homework.** If you don't know what a for-loop is, don't worry – we haven't covered them yet. But if you do know what they are and are wondering why it's not OK to use them, it is because loops in Python are slow, and looping over arrays and DataFrames should usually be avoided.\n",
    "\n",
    "<font color=red>**🚨 If you create a data visualization that is too cluttered to read or takes more than a few seconds to generate, this is a sign you are doing something wrong. Do not submit code like this, or the Gradescope autograder may fail to grade your entire assignment. It's better to leave a question blank than to submit code that will cause the autograder to fail on your full assignment.**</font>"
   ]
  },
  {
   "cell_type": "code",
   "execution_count": null,
   "metadata": {},
   "outputs": [],
   "source": [
    "# Please don't change this cell, but do make sure to run it\n",
    "import babypandas as bpd\n",
    "import numpy as np\n",
    "\n",
    "import matplotlib.pyplot as plt\n",
    "plt.style.use('ggplot')\n",
    "plt.rcParams['figure.figsize'] = (10, 5)\n",
    "\n",
    "import otter\n",
    "grader = otter.Notebook()"
   ]
  },
  {
   "cell_type": "markdown",
   "metadata": {},
   "source": [
    "## 1. UCSD ArtPower Events 🎨🎺💃"
   ]
  },
  {
   "cell_type": "markdown",
   "metadata": {},
   "source": [
    "<center><img src=\"./images/artpower.jpg\" width=600/></center>\n",
    "\n",
    "As a UCSD student, you may have noticed some emails from <a href=\"https://artpower.ucsd.edu/\">ArtPower</a>, a campus-based performing arts initiative, advertising upcoming events. ArtPower's self-described mission is to \"present performing arts that engage, energize, and transform the diverse cultural life of the university and San Diego.\" ArtPower events are open to the general public, and many are free for UCSD students. They encompass all sorts of performing arts, such as music, dance, and theatre. \n",
    "\n",
    "In this question, we'll work with a dataset of upcoming ArtPower events in the 2024-25 season. This dataset was collected by one of your fellow DSC 10 classmates, Austin Flippo, who wrote a <a href=\"https://github.com/AustinFlippo/UCSD_Events_Scraper\">web scraper</a> to collect information from the <a href=\"https://artpower.ucsd.edu/events/\"> ArtPower Events website</a> and store this information in a DataFrame. This DataFrame, `artpower`, is provided below, and it contains the following information for each event. \n",
    "\n",
    "|Column|Description|\n",
    "|------|-----------|\n",
    "|`'Event Name'`|The name of the event|\n",
    "|`'Category'`|The type of event|\n",
    "|`'Description'`|A brief summary of the event|\n",
    "|`'Link'`|The link to the event webpage|\n",
    "|`'Price'`|A breakdown of the pricing for different groups of people|\n",
    "|`'Date'`|Day, month, and year of the event|\n",
    "|`'Time'`|The day of the week and the time of the event|\n",
    "|`'Location'`|Location of the event (often on campus, but not always)|\n",
    "|`'Latitude'`|The latitude for the event's location|\n",
    "|`'Longitude'`|The longitude for the event's location|"
   ]
  },
  {
   "cell_type": "code",
   "execution_count": null,
   "metadata": {},
   "outputs": [],
   "source": [
    "artpower = bpd.read_csv('data/artpower.csv')\n",
    "artpower"
   ]
  },
  {
   "cell_type": "markdown",
   "metadata": {},
   "source": [
    "Let's start by exploring the `'Event Name'` column using the `describe()` method."
   ]
  },
  {
   "cell_type": "code",
   "execution_count": null,
   "metadata": {},
   "outputs": [],
   "source": [
    "artpower.get('Event Name').describe()"
   ]
  },
  {
   "cell_type": "markdown",
   "metadata": {},
   "source": [
    "**Question 1.1.** From the output above, we see that there are 37 event names, but only 36 of them are unique. This means that there are two events with the same name in `artpower`. Find the name of the event that is duplicated and store the result in `same_name` below.\n",
    "\n",
    "***Hint:*** Can you organize events so that events with the same name wind up together?"
   ]
  },
  {
   "cell_type": "code",
   "execution_count": null,
   "metadata": {},
   "outputs": [],
   "source": [
    "same_name = ...\n",
    "same_name"
   ]
  },
  {
   "cell_type": "code",
   "execution_count": null,
   "metadata": {
    "deletable": false,
    "editable": false
   },
   "outputs": [],
   "source": [
    "grader.check(\"q1_1\")"
   ]
  },
  {
   "cell_type": "markdown",
   "metadata": {},
   "source": [
    "**Question 1.2.** Are these actually two different events? Or is there an error in the data whereby we actually have two rows corresponding to the same event at the same time and place? To answer this question, make a new DataFrame, `same_name_events`, which should have the same columns as `artpower`, but only the two rows whose `'Event Name'` is `same_name`, as you found in the previous question. Look to see if there are any differences between the two rows!"
   ]
  },
  {
   "cell_type": "code",
   "execution_count": null,
   "metadata": {},
   "outputs": [],
   "source": [
    "same_name_events = ...\n",
    "same_name_events"
   ]
  },
  {
   "cell_type": "code",
   "execution_count": null,
   "metadata": {
    "deletable": false,
    "editable": false
   },
   "outputs": [],
   "source": [
    "grader.check(\"q1_2\")"
   ]
  },
  {
   "cell_type": "markdown",
   "metadata": {},
   "source": [
    "Next, let's look at the different event `'Category'` values that appear in the `artpower` DataFrame. You may notice that some events have a `'Category'` of `'Chamber Music'`, while others have a `'Category'` of `'Chamber Music*'`. "
   ]
  },
  {
   "cell_type": "code",
   "execution_count": null,
   "metadata": {},
   "outputs": [],
   "source": [
    "artpower.get('Category')"
   ]
  },
  {
   "cell_type": "markdown",
   "metadata": {},
   "source": [
    "Why the asterisk, you ask? Great question! Here is ArtPower's explanation:\n",
    "\n",
    ">**ASTERISK\\***\n",
    ">When you see this symbol\\*, it indicates artists that are pushing the boundaries, often across genres."
   ]
  },
  {
   "cell_type": "markdown",
   "metadata": {},
   "source": [
    "**Question 1.3.** Then create a DataFrame called `chamber_music` that contains all the rows of `artpower` for events where the `'Category'` is `'Chamber Music'`, and all the rows for events where the `'Category'` is `'Chamber Music*'`, but no additional rows. "
   ]
  },
  {
   "cell_type": "code",
   "execution_count": null,
   "metadata": {},
   "outputs": [],
   "source": [
    "chamber_music = ...\n",
    "chamber_music"
   ]
  },
  {
   "cell_type": "code",
   "execution_count": null,
   "metadata": {
    "deletable": false,
    "editable": false
   },
   "outputs": [],
   "source": [
    "grader.check(\"q1_3\")"
   ]
  },
  {
   "cell_type": "markdown",
   "metadata": {},
   "source": [
    "**Question 1.4.** Suppose you want to extract the day of the week (e.g. Monday) for each event. Write a function called `day_of_week` that takes as input one entry from the ``'Time'`` column and outputs the three-letter abbreviation of the day of the week associated with that entry. For example, the call `day_of_week('FRI 7:30 pm')` should return the string `'FRI'`. You can assume that the inputs to your function will always be in the format shown in the `'Time'` column of `artpower`."
   ]
  },
  {
   "cell_type": "code",
   "execution_count": null,
   "metadata": {},
   "outputs": [],
   "source": [
    "def day_of_week(time):\n",
    "    ..."
   ]
  },
  {
   "cell_type": "code",
   "execution_count": null,
   "metadata": {
    "deletable": false,
    "editable": false
   },
   "outputs": [],
   "source": [
    "grader.check(\"q1_4\")"
   ]
  },
  {
   "cell_type": "markdown",
   "metadata": {},
   "source": [
    "**Question 1.5.** Using the `day_of_week` function you just wrote, assign the variable `most_dow` to the day of the week that has the *largest* number of events planned. Then, assign `least_dow` to the day of the week that has the *smallest* number of events planned. Finally, assign `difference_dow` to the difference between the number of events on the most popular (`most_dow`) and least popular (`least_dow`) days of the week. \n",
    "\n",
    "***Hints:*** \n",
    "- You will need to define additional variables to answer this question. Feel free to add more cells above the provided cell.\n",
    "- Start by adding a column to `artpower` that contains the day of the week for each event."
   ]
  },
  {
   "cell_type": "code",
   "execution_count": null,
   "metadata": {
    "scrolled": true
   },
   "outputs": [],
   "source": [
    "most_dow = ...\n",
    "least_dow = ...\n",
    "difference_dow = ...\n",
    "print(\"Events occur the most on\", most_dow)\n",
    "print(\"Events occur the least on\", least_dow)\n",
    "print(most_dow, \"has\", difference_dow, \"more events planned than\", least_dow)"
   ]
  },
  {
   "cell_type": "code",
   "execution_count": null,
   "metadata": {
    "deletable": false,
    "editable": false
   },
   "outputs": [],
   "source": [
    "grader.check(\"q1_5\")"
   ]
  },
  {
   "cell_type": "markdown",
   "metadata": {},
   "source": [
    "**Question 1.6.** Construct an appropriate visualization to compare the distribution of the number of events across different days of the week, sorted so that the day with the most events appears first in your visualization. Make sure to include every day of the week and its corresponding number of events.\n",
    "\n",
    "***Note:*** With this problem, and with all others, make sure your solutions sticks to the methods of the course. While there are many ways to make plots in Python, we've only used one, `.plot`."
   ]
  },
  {
   "cell_type": "markdown",
   "metadata": {
    "deletable": false,
    "editable": false
   },
   "source": [
    "<!-- BEGIN QUESTION -->\n",
    "\n",
    "<!--\n",
    "BEGIN QUESTION\n",
    "name: q1_6\n",
    "manual: true\n",
    "-->"
   ]
  },
  {
   "cell_type": "code",
   "execution_count": null,
   "metadata": {},
   "outputs": [],
   "source": [
    "# Create your plot here.\n",
    "..."
   ]
  },
  {
   "cell_type": "markdown",
   "metadata": {},
   "source": [
    "<!-- END QUESTION -->\n",
    "\n",
    "\n",
    "\n",
    "**Question 1.7.** In each row of `artpower`, we are given the `'Latitude'` and `'Longitude'`, which tells us a precise geographical location for each ArtPower event. To see how events are located relative to one another, create a scatter plot with `'Longitude'` on the x-axis and `'Latitude'` on the y-axis for every event in the `artpower` DataFrame. "
   ]
  },
  {
   "cell_type": "markdown",
   "metadata": {
    "deletable": false,
    "editable": false
   },
   "source": [
    "<!-- BEGIN QUESTION -->\n",
    "\n",
    "<!--\n",
    "BEGIN QUESTION\n",
    "name: q1_7\n",
    "manual: true\n",
    "-->"
   ]
  },
  {
   "cell_type": "code",
   "execution_count": null,
   "metadata": {},
   "outputs": [],
   "source": [
    "# Create your plot here.\n",
    "..."
   ]
  },
  {
   "cell_type": "markdown",
   "metadata": {},
   "source": [
    "<!-- END QUESTION -->\n",
    "\n",
    "\n",
    "\n",
    "Your scatter plot shows how the event locations are related to one another geographically, but it's hard to draw much insight from such a basic plot. For example, you might not realize from looking at the plot above that all the dots in the upper left corner correspond to events happening on UCSD's campus, while the dots in the bottom right correspond to events happening in downtown San Diego. That would be much easier to discover if we could plot these points not just on a scatter plot, but on a map.\n",
    "\n",
    "Luckily, there's a Python package for that. Run the cell below to import the package `folium`, which supports maps, and to see the ArtPower events on a map we've created using the `'Latitude'` and `'Longitude'` values in `artpower`. You don't need to understand the code that creates the map, but do try zooming in and clicking around on the map that is produced. "
   ]
  },
  {
   "cell_type": "code",
   "execution_count": null,
   "metadata": {},
   "outputs": [],
   "source": [
    "import folium\n",
    "from folium.plugins import MarkerCluster\n",
    "\n",
    "def create_map():\n",
    "    my_map = folium.Map(location=[32.8, -117.2], zoom_start=11)\n",
    "    marker_cluster = MarkerCluster().add_to(my_map)\n",
    "    for i in np.arange(artpower.shape[0]):\n",
    "        folium.Marker(\n",
    "            location=[artpower.get('Latitude').iloc[i], artpower.get('Longitude').iloc[i]],\n",
    "            tooltip=\"Click me!\",\n",
    "            popup=artpower.get('Event Name').iloc[i] + ' on ' + artpower.get('Date').iloc[i],\n",
    "            icon=folium.Icon(icon=\"star\")\n",
    "        ).add_to(marker_cluster)\n",
    "    return my_map\n",
    "\n",
    "create_map()"
   ]
  },
  {
   "cell_type": "markdown",
   "metadata": {},
   "source": [
    "**Question 1.8.** From exploring the map above, you should see that there are only a few different `'Location'`s where ArtPower events take place. Since the map automatically clusters events at nearby `'Location'`s, you can easily see how many events take place on campus versus off campus. \n",
    "\n",
    "In the cell below, write code to extract the number of upcoming ArtPower events that will take place on and off campus, storing your results in `on_campus` and `off_campus`, respectively. Don't just type in the numbers you see in the map above; write code to extract the values from the `artpower` DataFrame. When you're done, make sure that your results agree with what you see in the map. \n",
    "\n",
    "You will need to use the fact that the only off-campus `'Location'` for upcoming ArtPower events is `'Balboa Theatre'` in downtown San Diego."
   ]
  },
  {
   "cell_type": "code",
   "execution_count": null,
   "metadata": {},
   "outputs": [],
   "source": [
    "on_campus = ...\n",
    "off_campus = ...\n",
    "print(\"There are\", on_campus, \"events on campus and\", off_campus, \"events off campus.\")"
   ]
  },
  {
   "cell_type": "code",
   "execution_count": null,
   "metadata": {
    "deletable": false,
    "editable": false
   },
   "outputs": [],
   "source": [
    "grader.check(\"q1_8\")"
   ]
  },
  {
   "cell_type": "markdown",
   "metadata": {},
   "source": [
    "## 2. Are You Scared Yet? Analyzing Horror Movies 🎃😱"
   ]
  },
  {
   "cell_type": "markdown",
   "metadata": {},
   "source": [
    "<center><img src='./images/hocus_pocus.jpg' width = 400/></center>\n",
    "\n",
    "Spooky season is upon us! We've provided a file, `data/horror_movies.csv`, that contains information about horror movies. For each movie, we have 10 pieces of information (see the data description below) that we'll use to generate some insights about the state of horror movies in recent years. \n",
    "\n",
    "| Column      | Description |\n",
    "| ----------- | ----------- |\n",
    "| `'Title'`      | Title of the movie, with the year in parentheses    |\n",
    "| `'Country'`   | Country the movie was originally released in        |\n",
    "| `'Maturity Rating'` | A rating given to the movie by the Motion Picture Association |\n",
    "| `'Review Rating'` | The IMDb rating of the film, representing how good it was | \n",
    "| `'Language'` | The language the movie is in | \n",
    "| `'Filming Locations'` | The location in which the movie was filmed |\n",
    "| `'Budget'` | The total amount spent on the movie |\n",
    "| `'Release Month'` | The month the movie was released |\n",
    "| `'Release Day'` | The day of the month the movie was released |\n",
    "| `'Run Time'` | The length of the film in minutes |"
   ]
  },
  {
   "cell_type": "code",
   "execution_count": null,
   "metadata": {},
   "outputs": [],
   "source": [
    "# Run this cell to load the dataset.\n",
    "horror = bpd.read_csv('data/horror_movies.csv') \n",
    "horror"
   ]
  },
  {
   "cell_type": "markdown",
   "metadata": {},
   "source": [
    "**Question 2.1.** Examine the columns available in `horror` and consider which would be the best choice of index for this DataFrame. Change the `horror` DataFrame so that it's indexed by the values in this column instead of the default index."
   ]
  },
  {
   "cell_type": "code",
   "execution_count": null,
   "metadata": {},
   "outputs": [],
   "source": [
    "horror = ...\n",
    "horror"
   ]
  },
  {
   "cell_type": "code",
   "execution_count": null,
   "metadata": {
    "deletable": false,
    "editable": false
   },
   "outputs": [],
   "source": [
    "grader.check(\"q2_1\")"
   ]
  },
  {
   "cell_type": "markdown",
   "metadata": {},
   "source": [
    "**_Note:_**  If you were to run the cell where you set the index of `horror` again, you'd see an error message. Stop and think about _why_ you'd run into an error. Once you've thought about it, click the thinking emoji below to see the reason for the error.\n",
    "\n",
    "<br>\n",
    "\n",
    "<details>\n",
    "    <summary>Why would there be an error? 🤔</summary><br>\n",
    "    There would be an error since you'd be trying to set the index of <code>horror</code> to a column that no longer exists in <code>horror</code> – the column wouldn't exist because it was converted to the index the first time you ran the cell (and the index is not a column)!\n",
    "</details>\n",
    "\n",
    "If you acually ran the cell twice and got an error message, don't worry. To get rid of it, just re-run the cell where you defined the `horror` DataFrame, then run the cell in 2.1 just once, and you'll be good to go.\n",
    "\n",
    "When you submit your work for autograding, the entire notebook will be run from start to finish. Each cell will run only once, so it's no problem if your code errors on the second run. In this case, it means you're doing something right!"
   ]
  },
  {
   "cell_type": "markdown",
   "metadata": {},
   "source": [
    "**Question 2.2.** *The Ouija Experiment*, released in 2013, is among the lowest-budget movies in our dataset. What is the `'Budget'` of `'The Ouija Experiment (2013)'`, and what is its `'Review Rating'`? Assign your answers to variables `OE_budget` and `OE_rating`, respectively."
   ]
  },
  {
   "cell_type": "code",
   "execution_count": null,
   "metadata": {},
   "outputs": [],
   "source": [
    "OE_budget = ...\n",
    "OE_rating = ...\n",
    "print('The budget for The Ouija Experiment was', OE_budget, 'and the rating was', OE_rating)"
   ]
  },
  {
   "cell_type": "code",
   "execution_count": null,
   "metadata": {
    "deletable": false,
    "editable": false
   },
   "outputs": [],
   "source": [
    "grader.check(\"q2_2\")"
   ]
  },
  {
   "cell_type": "markdown",
   "metadata": {},
   "source": [
    "**Question 2.3.** Horror movies can be really entertaining, but they can also be really bad. Assign `lowest_rated_movie` to the name of the movie with the lowest `'Review Rating'` (including the year in parentheses), and set the `'Review Rating'` of that movie to `lowest_rating`."
   ]
  },
  {
   "cell_type": "code",
   "execution_count": null,
   "metadata": {},
   "outputs": [],
   "source": [
    "lowest_rated_movie = ...\n",
    "lowest_rating = ...\n",
    "print('The lowest-rated movie is', lowest_rated_movie, 'with a rating of', lowest_rating)"
   ]
  },
  {
   "cell_type": "code",
   "execution_count": null,
   "metadata": {
    "deletable": false,
    "editable": false
   },
   "outputs": [],
   "source": [
    "grader.check(\"q2_3\")"
   ]
  },
  {
   "cell_type": "markdown",
   "metadata": {},
   "source": [
    "**Question 2.4.** That's a very low rating, but how does that compare to the other movies included in the dataset? First, plot a density histogram that shows the distribution of `'Review Rating'`. Then compute the absolute difference between the lowest rating and the **median** rating, and assign the result to the variable `below_med`.\n",
    "\n",
    "When plotting your histogram, remember to set `density=True` and `ec='w'`. You don't have to set the `bins` argument."
   ]
  },
  {
   "cell_type": "code",
   "execution_count": null,
   "metadata": {},
   "outputs": [],
   "source": [
    "# Create your histogram here.\n",
    "...\n",
    "\n",
    "# Then calculate below_med.\n",
    "below_med = ...\n",
    "below_med"
   ]
  },
  {
   "cell_type": "code",
   "execution_count": null,
   "metadata": {
    "deletable": false,
    "editable": false
   },
   "outputs": [],
   "source": [
    "grader.check(\"q2_4\")"
   ]
  },
  {
   "cell_type": "markdown",
   "metadata": {},
   "source": [
    "**Question 2.5.** How many movies in our dataset were released in October and have been given a `'Maturity Rating'`? Set the number of such movies equal to the variable `oct_rated_count`. Note that movies *without* a `'Maturity Rating'` appear as either `'NOT RATED'` or `'UNRATED'`.  "
   ]
  },
  {
   "cell_type": "code",
   "execution_count": null,
   "metadata": {},
   "outputs": [],
   "source": [
    "oct_rated_count = ...\n",
    "oct_rated_count"
   ]
  },
  {
   "cell_type": "code",
   "execution_count": null,
   "metadata": {
    "deletable": false,
    "editable": false
   },
   "outputs": [],
   "source": [
    "grader.check(\"q2_5\")"
   ]
  },
  {
   "cell_type": "markdown",
   "metadata": {},
   "source": [
    "### Aside: String methods and Series\n",
    "\n",
    "**Before proceeding to Question 2.6., make sure to read this aside.**\n",
    "\n",
    "As we saw in [Lecture 2](https://dsc10.com/resources/lectures/lec02/lec02.html#String-methods), strings have several methods available to them."
   ]
  },
  {
   "cell_type": "code",
   "execution_count": null,
   "metadata": {},
   "outputs": [],
   "source": [
    "'Apparition (2015)'.lower()"
   ]
  },
  {
   "cell_type": "code",
   "execution_count": null,
   "metadata": {},
   "outputs": [],
   "source": [
    "'Apparition (2015)'.replace('i', '👀')"
   ]
  },
  {
   "cell_type": "markdown",
   "metadata": {},
   "source": [
    "`babypandas` makes it easy for us to use string methods on Series of strings. To do this, we follow the pattern\n",
    "\n",
    "```py\n",
    "ser.str.method(args)\n",
    "```\n",
    "\n",
    "where `ser` is a Series, `method` is the name of a method, and `args` are the arguments to that method (if any). The key difference between string-specific Series methods and other Series methods (like `ser.mean()`) is that we need to write `.str` first."
   ]
  },
  {
   "cell_type": "markdown",
   "metadata": {},
   "source": [
    "For example, the following expression returns a Series containing the values in the `'Country'` column but converted to lowercase."
   ]
  },
  {
   "cell_type": "code",
   "execution_count": null,
   "metadata": {},
   "outputs": [],
   "source": [
    "horror.get('Country').str.lower()"
   ]
  },
  {
   "cell_type": "markdown",
   "metadata": {},
   "source": [
    "It is essentially using the string method `.lower()` on **every** string in the Series `horror.get('Country')`, all at the same time!"
   ]
  },
  {
   "cell_type": "markdown",
   "metadata": {},
   "source": [
    "The following expression replaces all `'i'`s with `'👀'` in the index. (Yes, you can use `.str` with the index as well!)"
   ]
  },
  {
   "cell_type": "code",
   "execution_count": null,
   "metadata": {},
   "outputs": [],
   "source": [
    "horror.index.str.replace('i', '👀')"
   ]
  },
  {
   "cell_type": "markdown",
   "metadata": {},
   "source": [
    "Look at the `'Filming Locations'` column of `horror`, which is a Series."
   ]
  },
  {
   "cell_type": "code",
   "execution_count": null,
   "metadata": {},
   "outputs": [],
   "source": [
    "horror.get('Filming Locations')"
   ]
  },
  {
   "cell_type": "markdown",
   "metadata": {},
   "source": [
    "The following expression returns a Boolean Series, with `True` for movies whose `'Filming Locations'` **contain** (or include) the string `'England'` and `False` for all other movies. (Note that `.contains()` is not a regular string method in Python, while the other examples – `.lower()` and `.replace()` – are.)"
   ]
  },
  {
   "cell_type": "code",
   "execution_count": null,
   "metadata": {
    "scrolled": true
   },
   "outputs": [],
   "source": [
    "horror.get('Filming Locations').str.contains('England')"
   ]
  },
  {
   "cell_type": "markdown",
   "metadata": {},
   "source": [
    "Remember that we use Boolean Series to make queries!\n",
    "\n",
    "Now you're ready to proceed to Question 2.6. If you'd like another explanation of Series string methods, and `.str.contains` in particular, watch [this video](https://www.youtube.com/watch?v=TCcEhVA6Euw&list=PLDNbnocpJUhbczUw2Rw6bqreEECMvZ8gN&index=2)."
   ]
  },
  {
   "cell_type": "markdown",
   "metadata": {},
   "source": [
    "**Question 2.6.** Which movie titles contain the word `'night'`, with any capitalization? Create an *array* called `night_movies` containing the titles of all such movies, capitalized exactly as they appear in the DataFrame. \n",
    "\n",
    "**_Hints:_** \n",
    "- To convert a sequence into an array, call the function `np.array` on the sequence.\n",
    "- The movie names are all strings, so they may have inconsistencies in how they're capitalized. We want to count movie titles with the words `'Night'`, `'night'`, and even `'NiGHt'`. If we want to account for variations in capitalization, what operation should we call on the movie names **first**? (You may end up using `.str` twice!)"
   ]
  },
  {
   "cell_type": "code",
   "execution_count": null,
   "metadata": {},
   "outputs": [],
   "source": [
    "night_movies = ...\n",
    "night_movies"
   ]
  },
  {
   "cell_type": "code",
   "execution_count": null,
   "metadata": {
    "deletable": false,
    "editable": false
   },
   "outputs": [],
   "source": [
    "grader.check(\"q2_6\")"
   ]
  },
  {
   "cell_type": "markdown",
   "metadata": {},
   "source": [
    "**Question 2.7.** Create a DataFrame named `country_proportions`, indexed by `'Country'`, with one column named `'Proportion'`. The `'Proportion'` column should contain, for each country, the proportion of movies in the dataset from that country. Order the rows in descending order of `'Proportion'`.\n",
    "\n",
    "**_Hints:_** \n",
    "- Proportions can be easily calculated from counts.\n",
    "- If you pass in a **list** of columns names to `.get()`, the result will be a DataFrame containing only the columns specified in the list. "
   ]
  },
  {
   "cell_type": "code",
   "execution_count": null,
   "metadata": {},
   "outputs": [],
   "source": [
    "country_proportions = ...\n",
    "country_proportions"
   ]
  },
  {
   "cell_type": "code",
   "execution_count": null,
   "metadata": {
    "deletable": false,
    "editable": false
   },
   "outputs": [],
   "source": [
    "grader.check(\"q2_7\")"
   ]
  },
  {
   "cell_type": "markdown",
   "metadata": {},
   "source": [
    "**Question 2.8**  Create a horizontal bar chart that displays the **mean** `'Review Rating'` for each country's horror movies. Sort the bars so that the country with the lowest mean appears at the very top and the country with the highest mean appears at the bottom.\n",
    "\n",
    "**_Hints:_** \n",
    "- To get the bar chart to display nicely, try adding the keyword argument `figsize=(10, 10)`.\n",
    "- If your bar chart still doesn't look very nice after setting `figsize=(10, 10)`, make sure you are first calculating the **average** `'Review Rating'` of each country. You should not be plotting directly from the `horror` DataFrame."
   ]
  },
  {
   "cell_type": "markdown",
   "metadata": {
    "deletable": false,
    "editable": false
   },
   "source": [
    "<!-- BEGIN QUESTION -->\n",
    "\n",
    "<!--\n",
    "BEGIN QUESTION\n",
    "name: q2_8\n",
    "manual: True\n",
    "-->"
   ]
  },
  {
   "cell_type": "code",
   "execution_count": null,
   "metadata": {},
   "outputs": [],
   "source": [
    "# Create your bar chart here.\n",
    "..."
   ]
  },
  {
   "cell_type": "markdown",
   "metadata": {},
   "source": [
    "<!-- END QUESTION -->\n",
    "\n",
    "\n",
    "\n",
    "## 3. Final Stretch 🧘‍♀️"
   ]
  },
  {
   "cell_type": "markdown",
   "metadata": {},
   "source": [
    "Suppose we have a DataFrame named `data` with two numerical columns, `'x'` and `'y'`. Consider the following scatter plot, which was generated by calling `data.plot(kind='scatter', x='x', y='y')`:\n",
    "\n",
    "<img src='images/q4_scatter_plot.png' width=400/>\n",
    "\n",
    "Now consider these two histograms:\n",
    "\n",
    "<center>\n",
    "    <table><tr>\n",
    "        <td><center><b>Histogram A</b><br> <img src='images/q4_histogram_one.png' width=400></center> </td>\n",
    "        <td><center><b>Histogram B</b><br> <img src='images/q4_histogram_two.png' width=400></center> </td>\n",
    "    </tr></table>\n",
    "</center>"
   ]
  },
  {
   "cell_type": "markdown",
   "metadata": {},
   "source": [
    "**Question 3.1.** Which of the following lines of code generated **Histogram B**? Assign `which_code` to either 1, 2, 3, or 4.\n",
    " \n",
    " 1. `data.plot(kind='hist', density=True, y='y')`\n",
    " 2. `data.plot(kind='hist', density=False, y='y')`\n",
    " 3. `data.plot(kind='hist', density=True, y='x')`\n",
    " 4. `data.plot(kind='hist', density=False, y='x')`"
   ]
  },
  {
   "cell_type": "code",
   "execution_count": null,
   "metadata": {},
   "outputs": [],
   "source": [
    "which_code = ..."
   ]
  },
  {
   "cell_type": "code",
   "execution_count": null,
   "metadata": {
    "deletable": false,
    "editable": false
   },
   "outputs": [],
   "source": [
    "grader.check(\"q3_1\")"
   ]
  },
  {
   "cell_type": "markdown",
   "metadata": {},
   "source": [
    "**Question 3.2.** Suppose we run this block of code:\n",
    "\n",
    "```py\n",
    "new_data = bpd.DataFrame().assign(\n",
    "    x = data.get('x') / 4,\n",
    "    y = data.get('y')\n",
    ")\n",
    "```\n",
    "    \n",
    "We then run \n",
    "\n",
    "```py\n",
    "new_data.plot(kind='hist', density=True, y='x')\n",
    "```\n",
    "\n",
    "How will this histogram look compared to the histogram created by \n",
    "\n",
    "```py\n",
    "data.plot(kind='hist', density=True, y='x')\n",
    "```\n",
    "\n",
    "assuming both histograms are drawn on the same axes? Assign `histogram_difference` to either 1, 2, 3, or 4, corresponding to your choice.\n",
    "\n",
    "\n",
    "1. The `new_data` histogram will be narrower and shorter than the `data` histogram.\n",
    "2. The `new_data` histogram will be wider and shorter than the `data` histogram.\n",
    "3. The `new_data` histogram will be narrower and taller than the `data` histogram.\n",
    "4. The `new_data` histogram will be wider and taller than the `data` histogram.\n",
    "\n",
    "\n",
    "\n",
    "**_Hint:_** Look at the end of [Lecture 7](https://dsc10.com/resources/lectures/lec07/lec07.html#Plotting-overlaid-histograms) for an example of two histograms drawn on the same axes."
   ]
  },
  {
   "cell_type": "code",
   "execution_count": null,
   "metadata": {},
   "outputs": [],
   "source": [
    "histogram_difference = ..."
   ]
  },
  {
   "cell_type": "code",
   "execution_count": null,
   "metadata": {
    "deletable": false,
    "editable": false
   },
   "outputs": [],
   "source": [
    "grader.check(\"q3_2\")"
   ]
  },
  {
   "cell_type": "markdown",
   "metadata": {},
   "source": [
    "**Question 3.3.** Below, we show Histogram A again.\n",
    "\n",
    "<img src='./images/q4_histogram_one.png' width=400/>\n",
    "\n",
    "What **percent** of values in Histogram A are between -3 (inclusive) and 0 (exclusive)? While we cannot answer this question exactly since we do not know where the bins start and end, we can still approximate the answer. Assign the variable `percent_between` to a number 1 through 5, corresponding to the closest answer.\n",
    "\n",
    "1. 52%\n",
    "1. 56%\n",
    "1. 60%\n",
    "1. 83%\n",
    "1. 87%\n"
   ]
  },
  {
   "cell_type": "code",
   "execution_count": null,
   "metadata": {},
   "outputs": [],
   "source": [
    "percent_between = ..."
   ]
  },
  {
   "cell_type": "code",
   "execution_count": null,
   "metadata": {
    "deletable": false,
    "editable": false
   },
   "outputs": [],
   "source": [
    "grader.check(\"q3_3\")"
   ]
  },
  {
   "cell_type": "markdown",
   "metadata": {},
   "source": [
    "## Finish Line: Almost there, but make sure to follow the steps below to submit! 🏁\n",
    "\n",
    "**_Citations:_** Did you use any generative artificial intelligence tools to assist you on this assignment? If so, please state, for each tool you used, the name of the tool (ex. ChatGPT) and the problem(s) in this assignment where you used the tool for help."
   ]
  },
  {
   "cell_type": "markdown",
   "metadata": {},
   "source": [
    "<hr style='color:Maroon;background-color:Maroon;border:0 none; height: 3px;'>\n",
    "\n",
    "Please cite tools here.\n",
    "\n",
    "<hr style='color:Maroon;background-color:Maroon;border:0 none; height: 3px;'>"
   ]
  },
  {
   "cell_type": "markdown",
   "metadata": {},
   "source": [
    "To submit your assignment:\n",
    "\n",
    "1. Select `Kernel -> Restart & Run All` to ensure that you have executed all cells, including the test cells. \n",
    "1. Read through the notebook to make sure all cells ran and all tests passed.\n",
    "1. Run the cell below to run all tests, and make sure that they all pass.\n",
    "1. Download your notebook using `File -> Download as -> Notebook (.ipynb)`, then upload your notebook to Gradescope.\n",
    "1. Stick around while the Gradescope autograder grades your work. Make sure you see that all tests have passed on Gradescope.\n",
    "1. Check that you have a confirmation email from Gradescope and save it as proof of your submission. \n",
    "\n",
    "With homeworks, unlike with labs, the grade you see on Gradescope is **not your final score**. We will run correctness tests after the assignment's due date has passed."
   ]
  },
  {
   "cell_type": "code",
   "execution_count": null,
   "metadata": {
    "scrolled": true
   },
   "outputs": [],
   "source": [
    "grader.check_all()"
   ]
  }
 ],
 "metadata": {
  "kernelspec": {
   "display_name": "Python 3 (ipykernel)",
   "language": "python",
   "name": "python3"
  },
  "language_info": {
   "codemirror_mode": {
    "name": "ipython",
    "version": 3
   },
   "file_extension": ".py",
   "mimetype": "text/x-python",
   "name": "python",
   "nbconvert_exporter": "python",
   "pygments_lexer": "ipython3",
   "version": "3.9.5"
  },
  "toc": {
   "base_numbering": 1,
   "nav_menu": {},
   "number_sections": true,
   "sideBar": true,
   "skip_h1_title": false,
   "title_cell": "Table of Contents",
   "title_sidebar": "Contents",
   "toc_cell": false,
   "toc_position": {},
   "toc_section_display": true,
   "toc_window_display": false
  }
 },
 "nbformat": 4,
 "nbformat_minor": 4
}
